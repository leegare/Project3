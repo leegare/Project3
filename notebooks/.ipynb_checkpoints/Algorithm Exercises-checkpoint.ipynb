{
 "cells": [
  {
   "cell_type": "code",
   "execution_count": 46,
   "metadata": {},
   "outputs": [],
   "source": [
    "from itertools import combinations\n",
    "stock_prices = [10,7,5,8,7,11,9,8,1,4]\n",
    "stock_prices = [10,7,5,8,11,9,8,1,4]"
   ]
  },
  {
   "cell_type": "code",
   "execution_count": 34,
   "metadata": {},
   "outputs": [
    {
     "data": {
      "text/plain": [
       "[0, 6, 8, 7, 5, 4, 1, 2, 8, 5]"
      ]
     },
     "execution_count": 34,
     "metadata": {},
     "output_type": "execute_result"
    }
   ],
   "source": [
    "from scipy import random\n",
    "stock_prices = [int(9*random.random()) for i in range(10)]\n",
    "stock_prices"
   ]
  },
  {
   "cell_type": "code",
   "execution_count": 71,
   "metadata": {},
   "outputs": [
    {
     "name": "stdout",
     "output_type": "stream",
     "text": [
      "[10, 7, 5, 8, 7, 11, 9, 8, 1, 4]\n",
      "Buy when 5 sell at 11 gain: 6\n"
     ]
    },
    {
     "data": {
      "text/plain": [
       "6"
      ]
     },
     "execution_count": 71,
     "metadata": {},
     "output_type": "execute_result"
    }
   ],
   "source": [
    "get_max_profit(stock_prices)\n",
    "get_max_profit2(stock_prices)"
   ]
  },
  {
   "cell_type": "markdown",
   "metadata": {},
   "source": [
    "### Option 1"
   ]
  },
  {
   "cell_type": "code",
   "execution_count": 28,
   "metadata": {},
   "outputs": [],
   "source": [
    "def get_max_profit(stock_prices):\n",
    "    gain = [[-n[0]+n[1],n[0],n[1]] for n in combinations(stock_prices,2)]\n",
    "    g = max(gain)\n",
    "    print(stock_prices)\n",
    "    print('Buy when',g[1],'sell at', g[2], 'gain:', g[0])"
   ]
  },
  {
   "cell_type": "markdown",
   "metadata": {},
   "source": [
    "### Option 2"
   ]
  },
  {
   "cell_type": "code",
   "execution_count": 70,
   "metadata": {},
   "outputs": [],
   "source": [
    "def get_max_profit2(stock_prices):\n",
    "    buyp=stock_prices[0]\n",
    "    max_profit = 0\n",
    "    for stock in stock_prices:\n",
    "        max_profit = max(max_profit, stock-buyp)\n",
    "        buyp = min(buyp,stock)\n",
    "    print('Gain',max_profit)"
   ]
  }
 ],
 "metadata": {
  "kernelspec": {
   "display_name": "Python 3",
   "language": "python",
   "name": "python3"
  },
  "language_info": {
   "codemirror_mode": {
    "name": "ipython",
    "version": 3
   },
   "file_extension": ".py",
   "mimetype": "text/x-python",
   "name": "python",
   "nbconvert_exporter": "python",
   "pygments_lexer": "ipython3",
   "version": "3.6.4"
  }
 },
 "nbformat": 4,
 "nbformat_minor": 2
}
