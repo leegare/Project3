{
 "cells": [
  {
   "cell_type": "markdown",
   "metadata": {},
   "source": [
    "# Project: Bike Rental in Washington DC - MVP\n",
    "---\n",
    "## Introduction and Goal: \n",
    "---\n",
    "If you aspire to be green and avoid your city's traffic but most important of all your city has a public bicycle sharing system like the Velib in France, the Santander Cycles in London or the Capital Bikeshare in Washington D.C. then you as a responsible Earth-dweller may have been confronted to two problems: not finding a bike in your nearest bike station and not finding a bike-free dock at your destination's dock. To answer this issue, the bike's company needs to know the variability of the demand throughout time. \n",
    "\n",
    "This project analyzes the variance of the demand in rental bikes in function of the time, day in the year as well as the weather. \n",
    "\n",
    "## Questions for Exploration\n",
    "---\n",
    "1. What's the distribution of the demand for rental bikes throughout time? Is the demand higher in the weekdays than the weekends? In any normal day, is there a pattern of the usage over the course of time? \n",
    "\n",
    "2. Is there a difference in usage between a casual and a registered user? (Are they statistically different?)\n",
    "\n",
    "3. How influential is the weather with both users? Will a nice day be more enticing to use the bike over a rainy day? Does the wind or temperature discourage people to take the bike? \n",
    "\n",
    "4. Can the temperature felt be characterized by a combination of windspeed, humidity and official temperature? \n",
    "\n",
    "5. Can we predict the count of bikers given the time, day and weather? \n",
    "\n",
    "## Initial Data Cleaning Approach and Exploratory Findings\n",
    "---\n",
    "The dataset is taken from Kaggle's Bike Sharing Dataset, containing data of rental bikes in 2011 and 2012 with the corresponding weather and seasonal info in Washington D.C. \n",
    "\n",
    "The independent variable in this dataset would be the number of bikes in use at a given point in time. This metric is also classified by user type: Registered and Casual. Could there be a relevant meaning about each group? From my experience casual users do not represent the company's main source of income as they pay just when they use the service. The registered members pay in a regular basis as they have taken the service into their habits such as work.\n",
    "\n",
    "The figure below shows a comparisson of the distributions of the number of bikes in use by registered vs casual users, in function of a few time factors. \n",
    "\n",
    "![**Figure . % Use per User type**](reports/img/UserTypesVsTime.png)\n",
    "\n",
    "In the first four graphs the user difference is somewhat significant. Registered users seem to use more bikes than casual users. In the Registered Usage hourly graph there are 2 modes indicating a higher demand at 10am and the other one at 5pm. This could be evidence that these type of users adopted the service as a habit. \n",
    "\n",
    "The last 4 graphs give the larger image of the frequency of bike user over the months and seasons where both users seem to have a correlated pattern. On the seasonal graph, looks like casual bikers get discouraged in winter and fall rather easily than the registered members. This suggests that weather could be a determining factor in the bikers desire to use the bike. \n",
    "\n",
    "## Initial Research Findings\n",
    "--- \n",
    "Transitioning from seasons to weather conditions the figure below represents the percentage of clear skies, cloudy days and rainy days that ocurred throughout the 2 years. \n",
    "\n",
    "![**Figure . % Of weather conditions throughout 2011-2012](reports/img/weatherConditions.png)\n",
    "\n",
    "From the figure above it's shown that Washington DC had nice and clear days a minimum of 6 out of 10. Bad weather represented as light rain did not much happened.\n",
    "\n",
    "Below the weather factors such as temperature, temperature felt, humidity and windspeed are represented by their mean for the whole season. The temperature factors show the usual variation across the seasons whereas for the last two (humidity and windspeed) show little variance throughout the 4 seasons. \n",
    "\n",
    "![**Figure . % Of weather factors across the seasons](reports/img/normalizedWeatherFactors.png)\n",
    "\n",
    "These results show that temperature could be a determining factor on the demand for bikes but humidity and windspeed yield results that are difficult to interpet with the naked eye. \n",
    "\n",
    "## Further Research and Analysis\n",
    "---\n",
    "The weather definitely plays a role in the demand of bikes, however the weather itself has many parameters that define it. Further analysis will study the magnitude of influence of the 3 essential parameters: Temperature, humidity and windspeed. \n",
    "\n",
    "Furthermore, this MVP has shown that there's a temporal difference in usage from the two user types. The next step is to narrow the definition of the parameters responsible for this difference.\n",
    "\n",
    "After the predictors have been tested, I will test a few models to predict the demand. If the results are promising, this analysis could help also to detect anomalies of the demand on particular days like public transport strikes or major public events. "
   ]
  }
 ],
 "metadata": {
  "kernelspec": {
   "display_name": "Python 3",
   "language": "python",
   "name": "python3"
  },
  "language_info": {
   "codemirror_mode": {
    "name": "ipython",
    "version": 3
   },
   "file_extension": ".py",
   "mimetype": "text/x-python",
   "name": "python",
   "nbconvert_exporter": "python",
   "pygments_lexer": "ipython3",
   "version": "3.6.4"
  }
 },
 "nbformat": 4,
 "nbformat_minor": 2
}
